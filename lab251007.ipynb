{
 "cells": [
  {
   "cell_type": "code",
   "execution_count": 29,
   "metadata": {},
   "outputs": [],
   "source": [
    "# CNN 구현"
   ]
  },
  {
   "cell_type": "code",
   "execution_count": 30,
   "metadata": {},
   "outputs": [],
   "source": [
    "import numpy as np"
   ]
  },
  {
   "cell_type": "code",
   "execution_count": 31,
   "metadata": {},
   "outputs": [],
   "source": [
    "# im2col : 입력 이미지를 컬럼 형태로 변환\n",
    "# filter_h / filter_w : 필터의 높이와 넓이\n",
    "# stride : n*n의 filter 크기를 지정.\n",
    "# pad : padding 크기\n",
    "def im2col(input_data, filter_h, filter_w, stride = 1, pad = 0):\n",
    "    # 배치 크기, 채널, height, width\n",
    "    N, C, H, W = input_data.shape # 각 data의 shape를 저장\n",
    "    out_h = (H + 2 * pad - filter_h) // stride + 1 # 필터가 이동할 위치의 세로\n",
    "    out_w = (W + 2 * pad - filter_w) // stride + 1 # 필터가 이동할 위치의 가로\n",
    "\n",
    "    # np.pad : 배열의 경계에 원하는 크기의 패딩을 추가\n",
    "    # np.pad(array, pad_width, mode='constant', **kwargs)\n",
    "    # pad_width = [(0,0), (0,0), (pad, pad), (pad, pad)]\n",
    "    # (1,1)일 경우, 양쪽에 일정하게 1개씩 패딩을 추가한다는 뜻.\n",
    "    # 여기에서는 input_data의 크기가 (1, 1, 28, 28) 이니까 28*28에는 각각 pad 만큼을 양쪽에 padding 추가함.\n",
    "    # 그러면 input_data 의 크기가 (1+(0*2), 1+(0*2), 28+(pad*2), 28+(pad*2))가 됨.\n",
    "    # 각각의 앞뒤에 n씩 더하는 거니까 2를 곱해야 함. \n",
    "    # mode: 패딩 방법. 기본값은 'constant'. 패딩을 일정 값으로 채움.\n",
    "    img = np.pad(input_data, [(0,0), (0,0), (pad, pad), (pad, pad)], 'constant') # input data를 numpy로 생성\n",
    "    col = np.zeros((N, C, filter_h, filter_w, out_h, out_w)) # 변환된 데이터를 담기 위한 임시 변수 \n",
    "\n",
    "    for y in range(filter_h): # filter 높이 크기만큼 for \n",
    "        y_max = y + stride * out_h # y의 슬라이싱 종료 위치. \n",
    "        for x in range(filter_w): # filter 넓이 의 크기만큼 for\n",
    "            x_max = x + stride * out_w # x의 슬라이싱 종료 위치.\n",
    "            col[:, :, y, x, :, :] = img[:, :, y:y_max:stride, x:x_max:stride]\n",
    "            # [:, :, y:y_max:stride, ...] y번째 행과 겹치는 모든 픽셀들을 한 번에 가져옴.\n",
    "            # y:y_max 의 크기를 stride 만큼 건너 뛰어가며 잘라 넣음.\n",
    "            # x:x_max 의 크기와 stride도 마찬가지.\n",
    "            # 슬라이싱 시작부터 종료까지 stride 만큼 건너뛰면서 보는 셈.\n",
    "\n",
    "    print(\"변환 전 \", col.shape)\n",
    "    # (N, out_h, out_w, C, filter_h, filter_w) 크기로 바꿔야 함.\n",
    "    col = col.transpose(0, 4, 5, 1, 2, 3)\n",
    "    print(\"transpose 변환 후 \", col.shape)\n",
    "    col = col.reshape(N * out_h * out_w , -1) # col의 크기를 변환\n",
    "    print(\"reshape 변환 후 \", col.shape)\n",
    "    return col\n",
    "\n",
    "# convolution forward\n",
    "def conv_forward(x, W, b, stride = 1, pad = 0):\n",
    "    FN, C, FH, FW = W.shape\n",
    "    N, _, H, W_ = x.shape\n",
    "    out_h = (H + 2 * pad - FH) // stride + 1\n",
    "    out_w = (W_ + 2 * pad - FW) // stride + 1\n",
    "\n",
    "    col = im2col(x, FH, FW, stride, pad)\n",
    "    col_W = W.reshape(FN, -1).T\n",
    "    out = np.dot(col, col_W) + b\n",
    "    out = out.reshape(N, out_h, out_w, -1).transpose(0, 3, 1, 2)\n",
    "    return out"
   ]
  },
  {
   "cell_type": "code",
   "execution_count": 32,
   "metadata": {},
   "outputs": [
    {
     "name": "stdout",
     "output_type": "stream",
     "text": [
      "Label :  5\n",
      "Shape :  torch.Size([1, 28, 28])\n",
      "변환 전  (1, 1, 3, 3, 28, 28)\n",
      "transpose 변환 후  (1, 28, 28, 1, 3, 3)\n",
      "reshape 변환 후  (784, 9)\n",
      "Conv output shape: (1, 3, 28, 28)\n"
     ]
    }
   ],
   "source": [
    "import torchvision.datasets as datasets\n",
    "import torchvision.transforms as transforms\n",
    "\n",
    "# MNIST 불러오기\n",
    "transform = transforms.Compose([transforms.ToTensor()])\n",
    "mnist = datasets.MNIST(root=\"./train_data\", train=True, download=True, transform=transform)\n",
    "\n",
    "# 샘플 이미지 확인\n",
    "x, y = mnist[0]\n",
    "print(\"Label : \", y)\n",
    "print(\"Shape : \", x.shape)  # torch.Size([1,28,28])\n",
    "\n",
    "# numpy 변환 후 convolution 적용\n",
    "x_np = x.unsqueeze(0).numpy()  # (1,1,28,28)\n",
    "W = np.random.randn(3, 1, 3, 3) * 0.01 # 아무 숫자나 넣은 거임.\n",
    "b = np.zeros(3)\n",
    "\n",
    "out = conv_forward(x_np, W, b, stride=1, pad=1)\n",
    "print(\"Conv output shape:\", out.shape)  # (1,3,28,28)"
   ]
  },
  {
   "cell_type": "code",
   "execution_count": 33,
   "metadata": {},
   "outputs": [
    {
     "name": "stdout",
     "output_type": "stream",
     "text": [
      "torch.Size([1, 28, 28])\n",
      "5\n",
      "(1, 1, 28, 28)\n"
     ]
    }
   ],
   "source": [
    "print(x.shape)\n",
    "# N, height, width\n",
    "print(y)\n",
    "print(x_np.shape)\n",
    "# x_np : sample 개수, 채널, Height, Width "
   ]
  },
  {
   "cell_type": "code",
   "execution_count": null,
   "metadata": {},
   "outputs": [],
   "source": []
  }
 ],
 "metadata": {
  "kernelspec": {
   "display_name": ".venv",
   "language": "python",
   "name": "python3"
  },
  "language_info": {
   "codemirror_mode": {
    "name": "ipython",
    "version": 3
   },
   "file_extension": ".py",
   "mimetype": "text/x-python",
   "name": "python",
   "nbconvert_exporter": "python",
   "pygments_lexer": "ipython3",
   "version": "3.11.2"
  }
 },
 "nbformat": 4,
 "nbformat_minor": 2
}
