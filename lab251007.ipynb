{
 "cells": [
  {
   "cell_type": "code",
   "execution_count": 1,
   "metadata": {},
   "outputs": [],
   "source": [
    "# CNN 구현\n",
    "\n",
    "# 숙제\n",
    "\n",
    "# 1. Conv2D Backward 구현\n",
    "# Forward 에서 쓴 im2col을 이용해 gradient 계산\n",
    "# pytorch nn.conv2d와 비교해서 상대오차 < 1e-3 달성\n",
    "\n",
    "# 2. Maxpool 구현 (forward, backward)\n",
    "# forward : 영역 내 최댓값 / backward : 최댓값 위치로 gradient 전달\n",
    "# pytorch nn.maxpool2d와 비교 "
   ]
  },
  {
   "cell_type": "code",
   "execution_count": 2,
   "metadata": {},
   "outputs": [],
   "source": [
    "import numpy as np"
   ]
  },
  {
   "cell_type": "code",
   "execution_count": 3,
   "metadata": {},
   "outputs": [],
   "source": [
    "# im2col : 입력 이미지(다차원 데이터)를 컬럼 형태로 변환\n",
    "# filter_h / filter_w : 필터의 높이와 넓이\n",
    "# stride : n*n의 filter 크기를 지정.\n",
    "# pad : padding 크기\n",
    "def im2col(input_data, filter_h, filter_w, stride = 1, pad = 0):\n",
    "    # 배치 크기, 채널, height, width\n",
    "    N, C, H, W = input_data.shape # 각 data의 shape를 저장\n",
    "    out_h = (H + 2 * pad - filter_h) // stride + 1 # 필터가 이동할 위치의 세로\n",
    "    out_w = (W + 2 * pad - filter_w) // stride + 1 # 필터가 이동할 위치의 가로\n",
    "\n",
    "    # np.pad : 배열의 경계에 원하는 크기의 패딩을 추가\n",
    "    # np.pad(array, pad_width, mode='constant', **kwargs)\n",
    "    # pad_width = [(0,0), (0,0), (pad, pad), (pad, pad)]\n",
    "    # (1,1)일 경우, 양쪽에 일정하게 1개씩 패딩을 추가한다는 뜻.\n",
    "    # 여기에서는 input_data의 크기가 (1, 1, 28, 28) 이니까 28*28에는 각각 pad 만큼을 양쪽에 padding 추가함.\n",
    "    # 그러면 input_data 의 크기가 (1+(0*2), 1+(0*2), 28+(pad*2), 28+(pad*2))가 됨.\n",
    "    # 각각의 앞뒤에 n씩 더하는 거니까 2를 곱해야 함. \n",
    "    # mode: 패딩 방법. 기본값은 'constant'. 패딩을 일정 값으로 채움.\n",
    "    img = np.pad(input_data, [(0,0), (0,0), (pad, pad), (pad, pad)], 'constant') # input data를 numpy로 생성\n",
    "    col = np.zeros((N, C, filter_h, filter_w, out_h, out_w)) # 변환된 데이터를 담기 위한 임시 변수 \n",
    "\n",
    "    for y in range(filter_h): # filter 높이 크기만큼 for \n",
    "        y_max = y + stride * out_h # y의 슬라이싱 종료 위치. \n",
    "        for x in range(filter_w): # filter 넓이 의 크기만큼 for\n",
    "            x_max = x + stride * out_w # x의 슬라이싱 종료 위치.\n",
    "            col[:, :, y, x, :, :] = img[:, :, y:y_max:stride, x:x_max:stride]\n",
    "            # [:, :, y:y_max:stride, ...] y번째 행과 겹치는 모든 픽셀들을 한 번에 가져옴.\n",
    "            # y:y_max 의 크기를 stride 만큼 건너 뛰어가며 잘라 넣음.\n",
    "            # x:x_max 의 크기와 stride도 마찬가지.\n",
    "            # 슬라이싱 시작부터 종료까지 stride 만큼 건너뛰면서 보는 셈.\n",
    "\n",
    "    print(\"변환 전 \", col.shape)\n",
    "    # (N, out_h, out_w, C, filter_h, filter_w) 크기로 바꿔야 함.\n",
    "    col = col.transpose(0, 4, 5, 1, 2, 3)\n",
    "    # TODO: gradient 계산 추가\n",
    "    print(\"transpose 변환 후 \", col.shape)\n",
    "    col = col.reshape(N * out_h * out_w , -1) # col의 크기를 변환\n",
    "    print(\"reshape 변환 후 \", col.shape)\n",
    "    return col\n",
    "\n",
    "# convolution forward\n",
    "def conv_forward(x, W, b, stride = 1, pad = 0):\n",
    "    FN, C, FH, FW = W.shape\n",
    "    N, _, H, W_ = x.shape\n",
    "    out_h = (H + 2 * pad - FH) // stride + 1\n",
    "    out_w = (W_ + 2 * pad - FW) // stride + 1\n",
    "\n",
    "    print(\"입력 데이터 shape \", x.shape)\n",
    "    col = im2col(x, FH, FW, stride, pad)\n",
    "    print(\"im2col 후 \", col.shape)\n",
    "    col_W = W.reshape(FN, -1).T\n",
    "    out = np.dot(col, col_W) + b\n",
    "    out = out.reshape(N, out_h, out_w, -1).transpose(0, 3, 1, 2)\n",
    "    return out"
   ]
  },
  {
   "cell_type": "code",
   "execution_count": 73,
   "metadata": {},
   "outputs": [
    {
     "name": "stdout",
     "output_type": "stream",
     "text": [
      "Label :  5\n",
      "Shape :  torch.Size([1, 28, 28])\n",
      "입력 데이터 shape  (1, 1, 28, 28)\n",
      "변환 전  (1, 1, 3, 3, 28, 28)\n",
      "transpose 변환 후  (1, 28, 28, 1, 3, 3)\n",
      "reshape 변환 후  (784, 9)\n",
      "im2col 후  (784, 9)\n",
      "Conv output shape: (1, 3, 28, 28)\n"
     ]
    }
   ],
   "source": [
    "import torchvision.datasets as datasets\n",
    "import torchvision.transforms as transforms\n",
    "\n",
    "# MNIST 불러오기\n",
    "transform = transforms.Compose([transforms.ToTensor()])\n",
    "mnist = datasets.MNIST(root=\"./train_data\", train=True, download=True, transform=transform)\n",
    "\n",
    "# 샘플 이미지 확인\n",
    "x, y = mnist[0]\n",
    "print(\"Label : \", y)\n",
    "print(\"Shape : \", x.shape)  # torch.Size([1,28,28])\n",
    "\n",
    "# numpy 변환 후 convolution 적용\n",
    "x_np = x.unsqueeze(0).numpy()  # (1,1,28,28)\n",
    "W = np.random.randn(3, 1, 3, 3) * 0.01 # 아무 숫자나 넣은 거임.\n",
    "b = np.zeros(3)\n",
    "\n",
    "out = conv_forward(x_np, W, b, stride=1, pad=1)\n",
    "                     \n",
    "print(\"Conv output shape:\", out.shape)  # (1,3,28,28)"
   ]
  },
  {
   "cell_type": "code",
   "execution_count": null,
   "metadata": {},
   "outputs": [
    {
     "name": "stdout",
     "output_type": "stream",
     "text": [
      "Conv output shape: torch.Size([1, 3, 28, 28])\n"
     ]
    }
   ],
   "source": [
    "import torch.nn as nn\n",
    "import torch\n",
    "\n",
    "# pytorch nn.conv2d 사용해서 비교\n",
    "def conv_forward2(x, W, b, stride = 1, pad = 0):\n",
    "    # tensor로 변환\n",
    "    x_t = torch.from_numpy(x).float()\n",
    "    W_t = torch.from_numpy(W).float()\n",
    "    b_t = torch.from_numpy(b).float()\n",
    "    # weight tensor shape : out channel, in channel, kernel height, kernel width\n",
    "    o_C, i_C, k_h, k_w = W_t.shape\n",
    "    \n",
    "    # kernel size에는 height가 들어가야 함.\n",
    "    # 왜지?!!!?!?!?\n",
    "    conv = nn.Conv2d(in_channels = i_C, out_channels = o_C, \n",
    "                     kernel_size = k_h, stride = stride, \n",
    "                     padding = pad)\n",
    "    return conv(x_t)\n",
    "\n",
    "out2 = conv_forward2(x_np, W, b, stride=1, pad=1)\n",
    "print(\"Conv output shape:\", out2.shape)"
   ]
  }
 ],
 "metadata": {
  "kernelspec": {
   "display_name": "venv",
   "language": "python",
   "name": "python3"
  },
  "language_info": {
   "codemirror_mode": {
    "name": "ipython",
    "version": 3
   },
   "file_extension": ".py",
   "mimetype": "text/x-python",
   "name": "python",
   "nbconvert_exporter": "python",
   "pygments_lexer": "ipython3",
   "version": "3.11.2"
  }
 },
 "nbformat": 4,
 "nbformat_minor": 2
}
