{
 "cells": [
  {
   "cell_type": "code",
   "execution_count": 24,
   "id": "283a5d23",
   "metadata": {},
   "outputs": [],
   "source": [
    "# 숙제\n",
    "\n",
    "# 1. Conv2D Backward 구현\n",
    "# Forward 에서 쓴 im2col을 이용해 gradient 계산\n",
    "# pytorch nn.conv2d와 비교해서 상대오차 < 1e-3 달성\n",
    "\n",
    "# 2. Maxpool 구현 (forward, backward)\n",
    "# forward : 영역 내 최댓값 / backward : 최댓값 위치로 gradient 전달\n",
    "# pytorch nn.maxpool2d와 비교 "
   ]
  },
  {
   "cell_type": "code",
   "execution_count": 25,
   "id": "d05c7e92",
   "metadata": {},
   "outputs": [],
   "source": [
    "import numpy as np\n",
    "import pandas as pd\n",
    "\n",
    "import torch\n",
    "import torch.nn as nn\n",
    "import torch.nn.functional as F\n",
    "from torch.utils.data import Dataset, DataLoader\n",
    "\n",
    "from typing import Optional, List\n",
    "from dataclasses import dataclass, field\n",
    "\n",
    "import torchvision.datasets as datasets\n",
    "import torchvision.transforms as transforms"
   ]
  },
  {
   "cell_type": "code",
   "execution_count": 26,
   "id": "645634fa",
   "metadata": {},
   "outputs": [],
   "source": [
    "@dataclass\n",
    "class TrainingConfig:\n",
    "    model = None\n",
    "    epochs : int = 30\n",
    "    seed : int = 42\n",
    "    learning_rate : float = 1e-4\n",
    "    batch_size : int = 64\n",
    "    hidden_layers : List[int] = field(default_factory = lambda : [128, 64])\n",
    "\n",
    "    def __post_init__(self):\n",
    "        if self.learning_rate <= 0:\n",
    "            raise ValueError(\"Learning rate must be positive.\")\n",
    "        if self.epochs <= 0:\n",
    "            raise ValueError(\"Number of epochs must be positive.\")\n",
    "        if self.batch_size <= 0:\n",
    "            raise ValueError(\"Batch size must be positive.\")"
   ]
  },
  {
   "cell_type": "code",
   "execution_count": null,
   "id": "04602860",
   "metadata": {},
   "outputs": [],
   "source": [
    "class Conv:\n",
    "    def __init__(self, stride = 1, pad = 0):\n",
    "        self.stride = stride\n",
    "        self.pad = pad\n",
    "\n",
    "    def im2col(self, input_data, filter_h, filter_w):\n",
    "        N, C, H, W = input_data.shape \n",
    "        out_h = (H + 2 * self.pad - filter_h) // self.stride + 1 \n",
    "        out_w = (W + 2 * self.pad - filter_w) // self.stride + 1 \n",
    "\n",
    "        img = np.pad(input_data, [(0,0), (0,0), (self.pad, self.pad), (self.pad, self.pad)], 'constant') \n",
    "        col = np.zeros((N, C, filter_h, filter_w, out_h, out_w)) \n",
    "\n",
    "        for y in range(filter_h): \n",
    "            y_max = y + self.stride * out_h \n",
    "            for x in range(filter_w): \n",
    "                x_max = x + self.stride * out_w \n",
    "                col[:, :, y, x, :, :] = img[:, :, y:y_max:self.stride, x:x_max:self.stride]\n",
    "\n",
    "        col = col.transpose(0, 4, 5, 1, 2, 3)\n",
    "        # TODO: gradient 계산 추가\n",
    "        col = col.reshape(N * out_h * out_w , -1) # col의 크기를 변환\n",
    "        return col\n",
    "\n",
    "    # convolution forward\n",
    "    def conv_forward(self, x, W, b):\n",
    "        FN, C, FH, FW = W.shape\n",
    "        N, _, H, W_ = x.shape\n",
    "        out_h = (H + 2 * self.pad - FH) // self.stride + 1\n",
    "        out_w = (W_ + 2 * self.pad - FW) // self.stride + 1\n",
    "\n",
    "        col = self.im2col(x, FH, FW)\n",
    "        col_W = W.reshape(FN, -1).T\n",
    "        out = np.dot(col, col_W) + b\n",
    "        out = out.reshape(N, out_h, out_w, -1).transpose(0, 3, 1, 2)\n",
    "        return out\n",
    "\n",
    "    # pytorch nn.conv2d convolution forward\n",
    "    def conv_forward2(self, x, W, b):\n",
    "        # tensor로 변환\n",
    "        x_t = torch.from_numpy(x).float()\n",
    "        W_t = torch.from_numpy(W).float()\n",
    "        b_t = torch.from_numpy(b).float()\n",
    "        # weight tensor shape : out channel, in channel, kernel height, kernel width\n",
    "        o_C, i_C, k_h, k_w = W_t.shape\n",
    "        \n",
    "        # kernel size에는 height가 들어가야 함. 왜지?!!!?!?!?\n",
    "        conv = nn.Conv2d(in_channels = i_C, out_channels = o_C, \n",
    "                        kernel_size = k_h, stride = self.stride, padding = self.pad)\n",
    "        return conv(x_t)"
   ]
  },
  {
   "cell_type": "code",
   "execution_count": null,
   "id": "7ed88f62",
   "metadata": {},
   "outputs": [],
   "source": [
    "# TODO: 나중에 해야지...\n",
    "class CNN(nn.Module):\n",
    "    def __init__(self, in_layer, h_layer, out_num): \n",
    "        super().__init__()\n",
    "        self.in_layer = in_layer\n",
    "        self.h_layer = h_layer\n",
    "        self.out_num = out_num\n",
    "\n",
    "    def forward_im2col(self):\n",
    "        pass\n",
    "\n",
    "    def forawrd_conv2d(self):\n",
    "        pass"
   ]
  },
  {
   "cell_type": "code",
   "execution_count": 28,
   "id": "8df9ab4a",
   "metadata": {},
   "outputs": [],
   "source": [
    "class Trainer: \n",
    "    def __init__(self, model, train_loader, test_loader, optim, l_f,\n",
    "                 # scheduler : Optional[torch.optim.lr_scheduler._LRScheduler] = None,\n",
    "                 # callbacks : Optional[List[BaseCallback]] = None,\n",
    "                 device : str = \"cuda\"):\n",
    "        self.model = model\n",
    "        self.train_loader = train_loader\n",
    "        self.test_loader = test_loader\n",
    "        self.optim = optim\n",
    "        self.l_f = l_f\n",
    "        #self.scheduler = scheduler\n",
    "        #self.callbacks = callbacks if callbacks else []\n",
    "        self.device = device\n",
    "        #self.state = {}\n",
    "\n",
    "    def fit(self, num_epochs : int, config : TrainingConfig):\n",
    "        # 모델 학습 부분\n",
    "        for i in range(num_epochs):\n",
    "            for idx, data in enumerate(self.train_loader):\n",
    "                input, output = data"
   ]
  },
  {
   "cell_type": "code",
   "execution_count": 29,
   "id": "636a3d2a",
   "metadata": {},
   "outputs": [],
   "source": [
    "# MNIST 불러오기\n",
    "transform = transforms.Compose([transforms.ToTensor()])\n",
    "mnist = datasets.MNIST(root=\"./train_data\", train=True, download=True, transform=transform)\n",
    "\n",
    "conv = Conv(stride = 1, pad = 1)\n",
    "config = TrainingConfig()"
   ]
  },
  {
   "cell_type": "code",
   "execution_count": 30,
   "id": "cb4c9c2c",
   "metadata": {},
   "outputs": [
    {
     "name": "stdout",
     "output_type": "stream",
     "text": [
      "train size : torch.Size([60000, 28, 28]) | test size : torch.Size([10000, 28, 28])\n",
      "Label : , 5 | Shape : , torch.Size([1, 28, 28])\n"
     ]
    }
   ],
   "source": [
    "transform = transforms.Compose([transforms.ToTensor()])\n",
    "train_data = datasets.MNIST('./train_data', train = True, download = True, transform = transform)\n",
    "test_data = datasets.MNIST('./test_data', train = False, download = True, transform = transform)\n",
    "\n",
    "print(f\"train size : {train_data.data.shape} | test size : {test_data.data.shape}\")\n",
    "# 샘플 이미지 확인\n",
    "x, y = train_data[0]\n",
    "print(f\"Label : , {y} | Shape : , {x.shape}\")\n",
    "\n",
    "train_loader = DataLoader(dataset = train_data, batch_size = config.batch_size, shuffle = True)\n",
    "test_loader = DataLoader(dataset = test_data, batch_size = config.batch_size, shuffle = False)"
   ]
  },
  {
   "cell_type": "code",
   "execution_count": 31,
   "id": "4a04e8ba",
   "metadata": {},
   "outputs": [
    {
     "name": "stdout",
     "output_type": "stream",
     "text": [
      "Conv output shape: (1, 3, 28, 28)\n",
      "Conv output shape: torch.Size([1, 3, 28, 28])\n"
     ]
    }
   ],
   "source": [
    "# numpy 변환 후 convolution 적용\n",
    "x_np = x.unsqueeze(0).numpy()  # (1,1,28,28)\n",
    "W = np.random.randn(3, 1, 3, 3) * 0.01 # 아무 숫자나 넣은 거임.\n",
    "b = np.zeros(3)\n",
    "\n",
    "out = conv.conv_forward(x_np, W, b)\n",
    "out2 = conv.conv_forward2(x_np, W, b)\n",
    "                     \n",
    "print(\"Conv output shape:\", out.shape)  # (1,3,28,28)\n",
    "print(\"Conv output shape:\", out2.shape)"
   ]
  }
 ],
 "metadata": {
  "kernelspec": {
   "display_name": "venv",
   "language": "python",
   "name": "python3"
  },
  "language_info": {
   "codemirror_mode": {
    "name": "ipython",
    "version": 3
   },
   "file_extension": ".py",
   "mimetype": "text/x-python",
   "name": "python",
   "nbconvert_exporter": "python",
   "pygments_lexer": "ipython3",
   "version": "3.7.9"
  }
 },
 "nbformat": 4,
 "nbformat_minor": 5
}
